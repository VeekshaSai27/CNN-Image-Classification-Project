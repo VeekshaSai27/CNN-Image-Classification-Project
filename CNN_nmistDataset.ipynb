{
 "cells": [
  {
   "cell_type": "markdown",
   "id": "e031d045-cc85-4a81-9822-1825c17ce726",
   "metadata": {},
   "source": [
    "We will build convolutional neural networks(CNN). We will also use the popular MNIST dataset and we will compare our results to using a conventional neural network."
   ]
  },
  {
   "cell_type": "markdown",
   "id": "7bd32b5e-3611-43ba-8c8a-9fc9674bfcb1",
   "metadata": {},
   "source": [
    "First we will import all the required libraries."
   ]
  },
  {
   "cell_type": "code",
   "execution_count": 57,
   "id": "6ce1a6ab-c6c2-449e-b086-2d48c43943ca",
   "metadata": {},
   "outputs": [],
   "source": [
    "import keras\n",
    "from keras.models import Sequential\n",
    "from keras.layers import Dense\n",
    "from keras.layers import Input\n",
    "from keras.utils import to_categorical"
   ]
  },
  {
   "cell_type": "markdown",
   "id": "e74c3ae3-31d9-4e59-919c-08ad311dedf9",
   "metadata": {},
   "source": [
    "For working on CNNs we must import some other libraries"
   ]
  },
  {
   "cell_type": "code",
   "execution_count": 58,
   "id": "c10c5a1f-1579-4ad6-b046-2fdd0dd7c2fb",
   "metadata": {},
   "outputs": [],
   "source": [
    "from keras.layers import Conv2D\n",
    "from keras.layers import MaxPooling2D\n",
    "from keras.layers import Flatten"
   ]
  },
  {
   "cell_type": "code",
   "execution_count": 59,
   "id": "bc41bb9f-bbc9-4bf2-8426-c0fc9c54254c",
   "metadata": {},
   "outputs": [],
   "source": [
    "from keras.datasets import mnist #importing the MNIST dataset\n",
    "\n",
    "(X_train, y_train),(X_test,y_test)=mnist.load_data()\n",
    "\n",
    "#after loading the data, now we must reshape the data\n",
    "\n",
    "X_train=X_train.reshape(X_train.shape[0],28,28,1).astype('float32')\n",
    "X_test=X_test.reshape(X_test.shape[0],28,28,1).astype('float32')"
   ]
  },
  {
   "cell_type": "markdown",
   "id": "632b1db6-81c2-4218-9f3c-6cd1ad355f6b",
   "metadata": {},
   "source": [
    "Now, we will normalize the data."
   ]
  },
  {
   "cell_type": "code",
   "execution_count": 60,
   "id": "90a0f04b-f27f-4ccc-8e7e-d48b141f8bbd",
   "metadata": {},
   "outputs": [],
   "source": [
    "X_train=X_train/255\n",
    "X_test=X_test/255"
   ]
  },
  {
   "cell_type": "markdown",
   "id": "2ed11c77-fed5-4341-8506-3ed5e7caf7de",
   "metadata": {},
   "source": [
    "We will convert the target variable to an array using one hot encoding"
   ]
  },
  {
   "cell_type": "code",
   "execution_count": 61,
   "id": "f123a339-d9ea-491c-8d27-3a5eaa20c758",
   "metadata": {},
   "outputs": [],
   "source": [
    "y_train=to_categorical(y_train)\n",
    "y_test=to_categorical(y_test)\n",
    "\n",
    "num_classes=y_train.shape[1]  #this tells us the number of categories present"
   ]
  },
  {
   "cell_type": "markdown",
   "id": "4b89de76-2a43-4ff0-9eb5-70ed2ee11961",
   "metadata": {},
   "source": [
    "Now, we will create the CNN model"
   ]
  },
  {
   "cell_type": "code",
   "execution_count": 62,
   "id": "94f07b5c-d759-45ae-a910-457309e089f9",
   "metadata": {},
   "outputs": [],
   "source": [
    "def cnn_model():\n",
    "    model=Sequential()\n",
    "    model.add(Input(shape=(28,28,1)))\n",
    "    model.add(Conv2D(16,kernel_size=(4,4),strides=(1,1)))\n",
    "    model.add(MaxPooling2D(pool_size=(2,2),strides=(2,2)))\n",
    "    model.add(Conv2D(8,kernel_size=(2,2),strides=(1,1)))\n",
    "    model.add(MaxPooling2D(pool_size=(2,2),strides=(2,2)))\n",
    "    model.add(Flatten())\n",
    "    model.add(Dense(100,activation='relu'))\n",
    "    model.add(Dense(num_classes,activation='softmax'))\n",
    "\n",
    "    model.compile(optimizer='adam',loss='categorical_crossentropy',  metrics=['accuracy'])\n",
    "    return model"
   ]
  },
  {
   "cell_type": "markdown",
   "id": "894830bf-1c7c-451f-a7ca-957672df2795",
   "metadata": {},
   "source": [
    "We will now train and test the model "
   ]
  },
  {
   "cell_type": "code",
   "execution_count": 63,
   "id": "8657673d-6be2-4ea0-98a6-c981cdad3c9b",
   "metadata": {},
   "outputs": [
    {
     "name": "stdout",
     "output_type": "stream",
     "text": [
      "Epoch 1/10\n",
      "600/600 - 2s - 4ms/step - accuracy: 0.8784 - loss: 0.4069 - val_accuracy: 0.9451 - val_loss: 0.1755\n",
      "Epoch 2/10\n",
      "600/600 - 1s - 2ms/step - accuracy: 0.9572 - loss: 0.1427 - val_accuracy: 0.9702 - val_loss: 0.0977\n",
      "Epoch 3/10\n",
      "600/600 - 1s - 2ms/step - accuracy: 0.9718 - loss: 0.0919 - val_accuracy: 0.9736 - val_loss: 0.0876\n",
      "Epoch 4/10\n",
      "600/600 - 1s - 2ms/step - accuracy: 0.9784 - loss: 0.0709 - val_accuracy: 0.9824 - val_loss: 0.0574\n",
      "Epoch 5/10\n",
      "600/600 - 1s - 2ms/step - accuracy: 0.9817 - loss: 0.0578 - val_accuracy: 0.9820 - val_loss: 0.0579\n",
      "Epoch 6/10\n",
      "600/600 - 1s - 2ms/step - accuracy: 0.9844 - loss: 0.0487 - val_accuracy: 0.9828 - val_loss: 0.0539\n",
      "Epoch 7/10\n",
      "600/600 - 1s - 2ms/step - accuracy: 0.9882 - loss: 0.0398 - val_accuracy: 0.9860 - val_loss: 0.0425\n",
      "Epoch 8/10\n",
      "600/600 - 1s - 2ms/step - accuracy: 0.9894 - loss: 0.0342 - val_accuracy: 0.9866 - val_loss: 0.0434\n",
      "Epoch 9/10\n",
      "600/600 - 1s - 2ms/step - accuracy: 0.9904 - loss: 0.0301 - val_accuracy: 0.9843 - val_loss: 0.0490\n",
      "Epoch 10/10\n",
      "600/600 - 1s - 2ms/step - accuracy: 0.9924 - loss: 0.0248 - val_accuracy: 0.9887 - val_loss: 0.0386\n",
      "313/313 - 0s - 1ms/step - accuracy: 0.9887 - loss: 0.0386\n",
      "The accuracy of the cnn model for this dataset is  0.9886999726295471\n"
     ]
    }
   ],
   "source": [
    "model=cnn_model()\n",
    "model.fit(X_train,y_train,validation_data=(X_test,y_test),epochs=10,batch_size=100,verbose=2)\n",
    "scores=model.evaluate(X_test,y_test,verbose=2)\n",
    "print(\"The accuracy of the cnn model for this dataset is \",scores[1])"
   ]
  },
  {
   "cell_type": "code",
   "execution_count": null,
   "id": "ea86e8f6-3fdd-4045-99ed-d899121e16fd",
   "metadata": {},
   "outputs": [],
   "source": []
  },
  {
   "cell_type": "code",
   "execution_count": null,
   "id": "15fb9734-3a50-48fc-a1ca-8ca4be11e5b0",
   "metadata": {},
   "outputs": [],
   "source": []
  },
  {
   "cell_type": "code",
   "execution_count": null,
   "id": "d807e234-eee3-4ba4-a43f-3df4b71ce0eb",
   "metadata": {},
   "outputs": [],
   "source": []
  },
  {
   "cell_type": "code",
   "execution_count": null,
   "id": "157e9568-1b76-4548-9e4e-fcb044a5b59c",
   "metadata": {},
   "outputs": [],
   "source": []
  }
 ],
 "metadata": {
  "kernelspec": {
   "display_name": "Python 3 (ipykernel)",
   "language": "python",
   "name": "python3"
  },
  "language_info": {
   "codemirror_mode": {
    "name": "ipython",
    "version": 3
   },
   "file_extension": ".py",
   "mimetype": "text/x-python",
   "name": "python",
   "nbconvert_exporter": "python",
   "pygments_lexer": "ipython3",
   "version": "3.12.8"
  }
 },
 "nbformat": 4,
 "nbformat_minor": 5
}
